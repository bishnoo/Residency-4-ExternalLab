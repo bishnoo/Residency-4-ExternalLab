{
 "cells": [
  {
   "cell_type": "markdown",
   "metadata": {},
   "source": [
    "### About Dataset\n",
    "**FileName:** sales.csv\n",
    "\n",
    "**Abstract:** Sales_Transactions_Weekly Data Set\n",
    "\n",
    "Contains weekly purchased quantities of 800 over products over 52 weeks. Normalised values are provided too. [Dataset Link](https://archive.ics.uci.edu/ml/datasets/Sales_Transactions_Dataset_Weekly)\n",
    "\n",
    "**Based on the sales pattern we are clustering the products.**"
   ]
  },
  {
   "cell_type": "markdown",
   "metadata": {},
   "source": [
    "### Read the dataset"
   ]
  },
  {
   "cell_type": "code",
   "execution_count": 1,
   "metadata": {},
   "outputs": [],
   "source": [
    "#Import Libraries\n",
    "import pandas as pd\n",
    "import numpy as np\n",
    "\n",
    "%matplotlib inline \n",
    "\n",
    "import matplotlib\n",
    "import matplotlib.pyplot as plt \n",
    "\n",
    "import warnings\n",
    "warnings.filterwarnings('ignore')"
   ]
  },
  {
   "cell_type": "code",
   "execution_count": 2,
   "metadata": {},
   "outputs": [],
   "source": [
    "df = pd.read_csv(\"sales.csv\").dropna()"
   ]
  },
  {
   "cell_type": "markdown",
   "metadata": {},
   "source": [
    "### Print the number of records and number of features in the dataset and do the required pre-processing"
   ]
  },
  {
   "cell_type": "code",
   "execution_count": 3,
   "metadata": {},
   "outputs": [
    {
     "name": "stdout",
     "output_type": "stream",
     "text": [
      "<class 'pandas.core.frame.DataFrame'>\n",
      "Int64Index: 811 entries, 0 to 810\n",
      "Columns: 107 entries, Product_Code to Normalized 51\n",
      "dtypes: float64(52), int64(54), object(1)\n",
      "memory usage: 684.3+ KB\n"
     ]
    }
   ],
   "source": [
    "df.info()"
   ]
  },
  {
   "cell_type": "code",
   "execution_count": 4,
   "metadata": {},
   "outputs": [
    {
     "data": {
      "text/plain": [
       "Product_Code     False\n",
       "W0               False\n",
       "W1               False\n",
       "W2               False\n",
       "W3               False\n",
       "W4               False\n",
       "W5               False\n",
       "W6               False\n",
       "W7               False\n",
       "W8               False\n",
       "W9               False\n",
       "W10              False\n",
       "W11              False\n",
       "W12              False\n",
       "W13              False\n",
       "W14              False\n",
       "W15              False\n",
       "W16              False\n",
       "W17              False\n",
       "W18              False\n",
       "W19              False\n",
       "W20              False\n",
       "W21              False\n",
       "W22              False\n",
       "W23              False\n",
       "W24              False\n",
       "W25              False\n",
       "W26              False\n",
       "W27              False\n",
       "W28              False\n",
       "                 ...  \n",
       "Normalized 22    False\n",
       "Normalized 23    False\n",
       "Normalized 24    False\n",
       "Normalized 25    False\n",
       "Normalized 26    False\n",
       "Normalized 27    False\n",
       "Normalized 28    False\n",
       "Normalized 29    False\n",
       "Normalized 30    False\n",
       "Normalized 31    False\n",
       "Normalized 32    False\n",
       "Normalized 33    False\n",
       "Normalized 34    False\n",
       "Normalized 35    False\n",
       "Normalized 36    False\n",
       "Normalized 37    False\n",
       "Normalized 38    False\n",
       "Normalized 39    False\n",
       "Normalized 40    False\n",
       "Normalized 41    False\n",
       "Normalized 42    False\n",
       "Normalized 43    False\n",
       "Normalized 44    False\n",
       "Normalized 45    False\n",
       "Normalized 46    False\n",
       "Normalized 47    False\n",
       "Normalized 48    False\n",
       "Normalized 49    False\n",
       "Normalized 50    False\n",
       "Normalized 51    False\n",
       "Length: 107, dtype: bool"
      ]
     },
     "execution_count": 4,
     "metadata": {},
     "output_type": "execute_result"
    }
   ],
   "source": [
    "df.isnull().any()"
   ]
  },
  {
   "cell_type": "code",
   "execution_count": 5,
   "metadata": {},
   "outputs": [],
   "source": [
    "# Separating the features and product code.\n",
    "df_features = df.loc[:,'W0':'W51']\n",
    "y = df.loc[:,'Product_Code']\n"
   ]
  },
  {
   "cell_type": "markdown",
   "metadata": {},
   "source": [
    "### Divide the normalized values as feature set from the given dataset "
   ]
  },
  {
   "cell_type": "code",
   "execution_count": 6,
   "metadata": {},
   "outputs": [],
   "source": [
    "df_norm_features = df.loc[:,'Normalized 0':'Normalized 51']"
   ]
  },
  {
   "cell_type": "markdown",
   "metadata": {},
   "source": [
    "### Calculate the Convariance Matrix"
   ]
  },
  {
   "cell_type": "code",
   "execution_count": 7,
   "metadata": {},
   "outputs": [
    {
     "data": {
      "text/plain": [
       "array([[0.07091926, 0.03405328, 0.03506864, ..., 0.01889971, 0.01470466,\n",
       "        0.00104419],\n",
       "       [0.03405328, 0.07915388, 0.03784508, ..., 0.01642457, 0.01081432,\n",
       "        0.00301247],\n",
       "       [0.03506864, 0.03784508, 0.08078894, ..., 0.01848616, 0.00883466,\n",
       "        0.00212499],\n",
       "       ...,\n",
       "       [0.01889971, 0.01642457, 0.01848616, ..., 0.08217694, 0.01883491,\n",
       "        0.01859996],\n",
       "       [0.01470466, 0.01081432, 0.00883466, ..., 0.01883491, 0.08714106,\n",
       "        0.02234657],\n",
       "       [0.00104419, 0.00301247, 0.00212499, ..., 0.01859996, 0.02234657,\n",
       "        0.11721045]])"
      ]
     },
     "execution_count": 7,
     "metadata": {},
     "output_type": "execute_result"
    }
   ],
   "source": [
    "X_cv = np.cov(df_norm_features.T)\n",
    "X_cv"
   ]
  },
  {
   "cell_type": "markdown",
   "metadata": {},
   "source": [
    "### Print the Eigen Values and Eigen vectors"
   ]
  },
  {
   "cell_type": "code",
   "execution_count": 8,
   "metadata": {},
   "outputs": [
    {
     "name": "stdout",
     "output_type": "stream",
     "text": [
      "Eigen Values: [1.34152479 0.18219364 0.0986116  0.0857389  0.08446319 0.07998295\n",
      " 0.07846918 0.0761355  0.07075259 0.07019014 0.06911754 0.06492005\n",
      " 0.0261379  0.06288495 0.06172724 0.06025813 0.0280505  0.05837944\n",
      " 0.02850205 0.05701922 0.05655943 0.0557495  0.05464338 0.02956828\n",
      " 0.03072865 0.03115098 0.03181151 0.0321239  0.03295854 0.05313591\n",
      " 0.03408578 0.05231373 0.05149903 0.05071512 0.03494019 0.0497228\n",
      " 0.04892104 0.04839854 0.03613945 0.03708202 0.03791984 0.03840187\n",
      " 0.03927773 0.04692108 0.04595939 0.04550852 0.04422883 0.04383471\n",
      " 0.04138722 0.04303638 0.04193467 0.04237   ]\n",
      "Eigen Vectors: [[-0.15736788 -0.05950599 -0.08656352 ... -0.19705464 -0.08659698\n",
      "  -0.02694095]\n",
      " [-0.16555895 -0.09579254 -0.02243476 ...  0.08230969 -0.00925238\n",
      "   0.16801714]\n",
      " [-0.17239816 -0.08580657  0.03365034 ...  0.05357687  0.11720124\n",
      "   0.19413771]\n",
      " ...\n",
      " [-0.09297563  0.24063797  0.13298535 ... -0.16377078 -0.10669943\n",
      "   0.13272679]\n",
      " [-0.07935733  0.32137178  0.02817116 ... -0.02816693  0.20457951\n",
      "  -0.09779064]\n",
      " [-0.03311513  0.61271613  0.08280971 ...  0.13451511  0.03499212\n",
      "   0.04085744]]\n"
     ]
    }
   ],
   "source": [
    "eig_vals, eig_vecs = np.linalg.eig(X_cv)\n",
    "print(\"Eigen Values:\", eig_vals)\n",
    "print(\"Eigen Vectors:\", eig_vecs)"
   ]
  },
  {
   "cell_type": "markdown",
   "metadata": {},
   "source": [
    "### Calculate the Cumulative Explained Variance"
   ]
  },
  {
   "cell_type": "code",
   "execution_count": 9,
   "metadata": {},
   "outputs": [
    {
     "name": "stdout",
     "output_type": "stream",
     "text": [
      "4.04808750879116\n",
      "[33.139718239147925, 4.500733644793275, 2.436004658367022, 2.1180100616694815, 2.0864961018639496, 1.9758206434050383, 1.938425953481, 1.8807770068966345, 1.7478028545481819, 1.7339087713230588, 1.7074122199345023, 1.6037216084962138, 0.6456850845863734, 1.553448475682545, 1.5248494656701375, 1.4885578822897017, 0.692932130080755, 1.442148758972243, 0.7040868520551279, 1.4085471317963263, 1.3971888286139322, 1.377181181563737, 1.3498566176196227, 0.7304258166692852, 0.7590905556056001, 0.769523317820941, 0.7858403947941109, 0.7935573781155938, 0.8141756338343248, 1.312617713697887, 0.8420217380001184, 1.2923072203437755, 1.2721818206773041, 1.252816768101284, 0.8631283242727782, 1.228303413941276, 1.2084975130103635, 1.1955902836580652, 0.8927535775884194, 0.916037980549216, 0.9367347841955117, 0.9486423111753937, 0.9702785808096451, 1.159092550962693, 1.1353358151587496, 1.1241980619561516, 1.092585698029168, 1.0828499390717257, 1.0223895827905523, 1.0631287459660956, 1.0359132209887874, 1.0466670853584044]\n"
     ]
    }
   ],
   "source": [
    "eig_tot = sum(eig_vals)\n",
    "print(eig_tot)\n",
    "\n",
    "eig_var = [(arr/eig_tot)*100 for arr in eig_vals] \n",
    "print(eig_var) "
   ]
  },
  {
   "cell_type": "markdown",
   "metadata": {},
   "source": [
    "### Plot Cumulative explained variance"
   ]
  },
  {
   "cell_type": "code",
   "execution_count": 10,
   "metadata": {},
   "outputs": [
    {
     "data": {
      "text/plain": [
       "<BarContainer object of 52 artists>"
      ]
     },
     "execution_count": 10,
     "metadata": {},
     "output_type": "execute_result"
    },
    {
     "data": {
      "image/png": "[encoded data removed]",
      "text/plain": [
       "<Figure size 432x288 with 1 Axes>"
      ]
     },
     "metadata": {},
     "output_type": "display_data"
    }
   ],
   "source": [
    "plt.bar(range(len(eig_var)),eig_var)"
   ]
  },
  {
   "cell_type": "markdown",
   "metadata": {},
   "source": [
    "### Apply KMeans and plot the elbow graph to decide number of clusters on the original data from step-3"
   ]
  },
  {
   "cell_type": "code",
   "execution_count": 11,
   "metadata": {},
   "outputs": [],
   "source": [
    "from sklearn.cluster import KMeans\n",
    "from sklearn import metrics\n",
    "\n",
    "\n",
    "from scipy.spatial.distance import cdist"
   ]
  },
  {
   "cell_type": "code",
   "execution_count": 12,
   "metadata": {},
   "outputs": [],
   "source": [
    "#Original Data set \n",
    "X = df_features\n",
    "\n",
    "\n",
    "#Iterating values of k from 1 to 10 fit K means model Using c distance - Get the measure for Sum of squares error.\n",
    "\n",
    "distortions = []\n",
    "\n",
    "K = range(1,10)\n",
    "for k in K:\n",
    "    kmeanModel = KMeans(n_clusters=k).fit(X)\n",
    "    kmeanModel.fit(X)\n",
    "    distortions.append(\n",
    "        sum(np.min(cdist(X, kmeanModel.cluster_centers_, 'euclidean'), axis=1)) / X.shape[0])"
   ]
  },
  {
   "cell_type": "code",
   "execution_count": 13,
   "metadata": {},
   "outputs": [
    {
     "data": {
      "image/png": "[encoded data removed]",
      "text/plain": [
       "<Figure size 432x288 with 1 Axes>"
      ]
     },
     "metadata": {},
     "output_type": "display_data"
    }
   ],
   "source": [
    "# Plot the elbow\n",
    "plt.plot(K, distortions, 'bx-')\n",
    "plt.xlabel('k')\n",
    "plt.ylabel('Distortion')\n",
    "plt.title('The Elbow Method showing the optimal k')\n",
    "plt.show()"
   ]
  },
  {
   "cell_type": "code",
   "execution_count": 14,
   "metadata": {},
   "outputs": [],
   "source": [
    "# Up until the 3rd cluster, the distorting movement is vertical and beyond that it becomes more horizontal\n",
    "\n",
    "# Hence we could say, k = 3"
   ]
  },
  {
   "cell_type": "markdown",
   "metadata": {},
   "source": [
    "### Apply KMeans with the above decided number of clusters and give the labels count"
   ]
  },
  {
   "cell_type": "code",
   "execution_count": 15,
   "metadata": {},
   "outputs": [
    {
     "data": {
      "text/plain": [
       "KMeans(algorithm='auto', copy_x=True, init='k-means++', max_iter=300,\n",
       "    n_clusters=3, n_init=10, n_jobs=1, precompute_distances='auto',\n",
       "    random_state=None, tol=0.0001, verbose=0)"
      ]
     },
     "execution_count": 15,
     "metadata": {},
     "output_type": "execute_result"
    }
   ],
   "source": [
    "kmeans = KMeans(n_clusters=3)\n",
    "kmeans.fit(X)"
   ]
  },
  {
   "cell_type": "code",
   "execution_count": 16,
   "metadata": {},
   "outputs": [
    {
     "data": {
      "text/plain": [
       "array([0, 1, 0, 0, 0, 1, 1, 0, 0, 0, 0, 1, 0, 0, 2, 2, 2, 2, 2, 0, 0, 0,\n",
       "       1, 2, 2, 0, 2, 2, 0, 2, 0, 0, 0, 2, 2, 2, 2, 2, 2, 2, 2, 2, 2, 2,\n",
       "       2, 2, 2, 2, 2, 0, 0, 2, 1, 2, 2, 2, 2, 2, 0, 2, 2, 0, 2, 2, 0, 2,\n",
       "       2, 0, 2, 2, 0, 2, 2, 0, 2, 2, 1, 2, 2, 2, 0, 0, 2, 2, 2, 2, 2, 2,\n",
       "       2, 2, 0, 2, 0, 0, 0, 2, 2, 1, 0, 0, 2, 2, 0, 1, 1, 0, 0, 1, 0, 0,\n",
       "       1, 2, 2, 0, 0, 0, 1, 0, 2, 2, 0, 0, 1, 1, 0, 1, 1, 2, 2, 2, 2, 2,\n",
       "       2, 2, 2, 2, 2, 2, 2, 2, 2, 2, 2, 0, 0, 0, 0, 1, 0, 1, 1, 0, 0, 0,\n",
       "       1, 1, 0, 1, 1, 0, 1, 0, 1, 0, 0, 0, 2, 2, 2, 2, 0, 2, 2, 2, 2, 2,\n",
       "       2, 2, 2, 2, 2, 2, 2, 2, 2, 2, 2, 2, 2, 2, 2, 2, 2, 2, 1, 2, 0, 0,\n",
       "       1, 0, 1, 0, 1, 1, 0, 1, 1, 2, 0, 0, 0, 1, 1, 1, 1, 1, 1, 1, 1, 1,\n",
       "       1, 1, 1, 1, 1, 1, 1, 1, 1, 1, 1, 1, 1, 1, 1, 1, 1, 1, 1, 1, 1, 1,\n",
       "       1, 1, 1, 1, 1, 1, 1, 1, 1, 1, 1, 1, 1, 1, 1, 1, 1, 1, 0, 2, 0, 0,\n",
       "       1, 0, 0, 0, 0, 0, 1, 1, 1, 1, 1, 1, 1, 1, 1, 1, 1, 1, 1, 0, 0, 0,\n",
       "       1, 1, 1, 1, 1, 1, 1, 0, 1, 1, 1, 1, 0, 1, 1, 1, 1, 0, 1, 1, 1, 1,\n",
       "       0, 1, 1, 1, 1, 0, 1, 1, 1, 1, 0, 1, 1, 1, 1, 0, 1, 1, 1, 1, 1, 1,\n",
       "       1, 0, 0, 0, 1, 1, 1, 1, 1, 1, 1, 1, 1, 1, 1, 1, 1, 1, 1, 1, 1, 1,\n",
       "       1, 1, 1, 1, 1, 1, 1, 1, 1, 1, 0, 1, 1, 1, 1, 1, 1, 1, 1, 1, 1, 1,\n",
       "       1, 1, 1, 1, 1, 1, 1, 1, 1, 1, 1, 1, 1, 1, 1, 1, 1, 1, 1, 1, 0, 0,\n",
       "       0, 0, 1, 1, 0, 0, 0, 0, 0, 0, 2, 0, 0, 1, 0, 1, 1, 1, 1, 1, 1, 1,\n",
       "       1, 1, 1, 1, 1, 1, 1, 1, 0, 0, 1, 0, 1, 1, 0, 0, 1, 1, 1, 1, 1, 1,\n",
       "       1, 1, 1, 1, 1, 1, 1, 1, 1, 1, 1, 1, 1, 1, 1, 1, 1, 1, 1, 1, 1, 1,\n",
       "       1, 1, 1, 1, 1, 1, 1, 1, 1, 1, 1, 1, 1, 1, 1, 1, 1, 1, 1, 1, 0, 0,\n",
       "       0, 0, 1, 0, 0, 0, 0, 0, 0, 0, 1, 1, 0, 1, 1, 0, 0, 0, 0, 0, 0, 0,\n",
       "       1, 0, 2, 0, 0, 0, 0, 0, 0, 0, 0, 0, 0, 0, 0, 0, 0, 0, 0, 0, 0, 0,\n",
       "       1, 0, 2, 0, 0, 0, 0, 0, 0, 0, 0, 0, 0, 0, 0, 0, 0, 2, 2, 0, 0, 0,\n",
       "       1, 0, 0, 0, 2, 0, 0, 0, 1, 1, 0, 0, 0, 0, 1, 1, 1, 1, 1, 1, 1, 1,\n",
       "       1, 1, 1, 1, 1, 1, 1, 1, 1, 1, 1, 1, 1, 1, 1, 1, 1, 1, 1, 1, 1, 1,\n",
       "       1, 0, 1, 1, 1, 1, 1, 1, 1, 1, 1, 1, 1, 1, 1, 0, 0, 1, 2, 1, 2, 2,\n",
       "       2, 2, 2, 2, 2, 0, 0, 0, 0, 0, 0, 0, 0, 0, 0, 0, 0, 0, 1, 0, 1, 0,\n",
       "       1, 1, 1, 1, 1, 1, 1, 1, 1, 1, 1, 1, 1, 1, 1, 1, 1, 1, 1, 1, 1, 1,\n",
       "       1, 1, 1, 1, 1, 1, 1, 1, 1, 0, 1, 1, 1, 1, 1, 1, 1, 1, 1, 1, 1, 1,\n",
       "       1, 1, 1, 1, 1, 1, 1, 1, 1, 1, 1, 1, 1, 1, 1, 1, 1, 1, 1, 1, 1, 1,\n",
       "       1, 1, 1, 1, 1, 1, 1, 1, 1, 1, 1, 1, 1, 1, 1, 1, 1, 1, 1, 1, 1, 1,\n",
       "       1, 1, 1, 1, 1, 1, 1, 1, 1, 1, 1, 1, 1, 1, 1, 1, 1, 1, 1, 1, 1, 1,\n",
       "       1, 1, 1, 1, 1, 1, 1, 1, 1, 1, 1, 1, 1, 1, 1, 1, 1, 1, 1, 1, 1, 1,\n",
       "       1, 1, 0, 1, 0, 1, 1, 1, 1, 1, 1, 1, 1, 1, 1, 1, 1, 1, 1, 1, 1, 1,\n",
       "       1, 1, 1, 1, 1, 1, 1, 1, 1, 1, 1, 1, 1, 1, 1, 1, 1, 1, 1])"
      ]
     },
     "execution_count": 16,
     "metadata": {},
     "output_type": "execute_result"
    }
   ],
   "source": [
    "kmeans.labels_"
   ]
  },
  {
   "cell_type": "markdown",
   "metadata": {},
   "source": [
    "### Apply PCA with number of componenets as 10 and Repeat the above step"
   ]
  },
  {
   "cell_type": "code",
   "execution_count": 17,
   "metadata": {},
   "outputs": [],
   "source": [
    "from sklearn.decomposition import PCA\n",
    "X_reduced = PCA(n_components=10).fit_transform(X)"
   ]
  },
  {
   "cell_type": "code",
   "execution_count": 18,
   "metadata": {},
   "outputs": [],
   "source": [
    "#Iterating values of k from 1 to 10 fit K means model Using c distance - Get the measure for Sum of squares error.\n",
    "\n",
    "distortions = []\n",
    "\n",
    "K = range(1,10)\n",
    "for k in K:\n",
    "    kmeanModel = KMeans(n_clusters=k).fit(X_reduced)\n",
    "    kmeanModel.fit(X_reduced)\n",
    "    distortions.append(\n",
    "        sum(np.min(cdist(X_reduced, kmeanModel.cluster_centers_, 'euclidean'), axis=1)) / X_reduced.shape[0])"
   ]
  },
  {
   "cell_type": "code",
   "execution_count": 19,
   "metadata": {},
   "outputs": [
    {
     "data": {
      "image/png": "[encoded data removed]",
      "text/plain": [
       "<Figure size 432x288 with 1 Axes>"
      ]
     },
     "metadata": {},
     "output_type": "display_data"
    }
   ],
   "source": [
    "# Plot the elbow\n",
    "plt.plot(K, distortions, 'bx-')\n",
    "plt.xlabel('k')\n",
    "plt.ylabel('Distortion')\n",
    "plt.title('The Elbow Method showing the optimal k for reduced data')\n",
    "plt.show()"
   ]
  },
  {
   "cell_type": "code",
   "execution_count": 20,
   "metadata": {},
   "outputs": [],
   "source": [
    "# Up until the 3rd cluster, the distorting movement is vertical and beyond that it becomes more horizontal"
   ]
  }
 ],
 "metadata": {
  "kernelspec": {
   "display_name": "Python 3",
   "language": "python",
   "name": "python3"
  },
  "language_info": {
   "codemirror_mode": {
    "name": "ipython",
    "version": 3
   },
   "file_extension": ".py",
   "mimetype": "text/x-python",
   "name": "python",
   "nbconvert_exporter": "python",
   "pygments_lexer": "ipython3",
   "version": "3.6.5"
  }
 },
 "nbformat": 4,
 "nbformat_minor": 2
}
